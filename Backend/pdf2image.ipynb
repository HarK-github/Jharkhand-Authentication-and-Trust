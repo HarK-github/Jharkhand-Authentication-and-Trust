{
 "cells": [
  {
   "cell_type": "code",
   "execution_count": 2,
   "id": "2fcd0842",
   "metadata": {},
   "outputs": [],
   "source": [
    "from pdf2image import convert_from_path\n",
    "import os\n",
    "\n",
    "def get_images_from_input(input_path, is_pdf=False, dpi=300, out_dir=\"output_pages\"):\n",
    "    \"\"\"\n",
    "    Handle both PDF and image inputs.\n",
    "    - If PDF: convert all pages to images.\n",
    "    - If image: just return the path.\n",
    "\n",
    "    Args:\n",
    "        input_path (str): Path to input file (PDF or image).\n",
    "        is_pdf (bool): True if input is a PDF, False if image.\n",
    "        dpi (int): Resolution for PDF to image conversion.\n",
    "        out_dir (str): Directory to save extracted images if PDF.\n",
    "\n",
    "    Returns:\n",
    "        list: List of image file paths.\n",
    "    \"\"\"\n",
    "    if not is_pdf:\n",
    "        # Single image case\n",
    "        if not os.path.exists(input_path):\n",
    "            raise FileNotFoundError(f\"Image not found: {input_path}\")\n",
    "        return [input_path]\n",
    "\n",
    "    # PDF case\n",
    "    if not os.path.exists(out_dir):\n",
    "        os.makedirs(out_dir)\n",
    "\n",
    "    pages = convert_from_path(input_path, dpi=dpi)\n",
    "    image_paths = []\n",
    "    for i, page in enumerate(pages):\n",
    "        img_path = os.path.join(out_dir, f\"page_{i+1}.jpg\")\n",
    "        page.save(img_path, \"JPEG\")\n",
    "        image_paths.append(img_path)\n",
    "\n",
    "    return image_paths\n"
   ]
  },
  {
   "cell_type": "code",
   "execution_count": null,
   "id": "b82df140",
   "metadata": {},
   "outputs": [],
   "source": []
  }
 ],
 "metadata": {
  "kernelspec": {
   "display_name": "Python 3",
   "language": "python",
   "name": "python3"
  },
  "language_info": {
   "codemirror_mode": {
    "name": "ipython",
    "version": 3
   },
   "file_extension": ".py",
   "mimetype": "text/x-python",
   "name": "python",
   "nbconvert_exporter": "python",
   "pygments_lexer": "ipython3",
   "version": "3.12.4"
  }
 },
 "nbformat": 4,
 "nbformat_minor": 5
}
