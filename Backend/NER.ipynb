{
 "cells": [
  {
   "cell_type": "code",
   "execution_count": 1,
   "id": "102c1bcd",
   "metadata": {},
   "outputs": [],
   "source": [
    "import spacy\n",
    "#Pre-Trained Model For NER"
   ]
  },
  {
   "cell_type": "code",
   "execution_count": 5,
   "id": "42cff44b",
   "metadata": {},
   "outputs": [],
   "source": [
    "import re\n",
    "# Import Regex"
   ]
  },
  {
   "cell_type": "code",
   "execution_count": 6,
   "id": "cad339fd",
   "metadata": {},
   "outputs": [],
   "source": [
    "# Load spaCy English NER model once\n",
    "try:\n",
    "    nlp = spacy.load(\"en_core_web_sm\")\n",
    "except:\n",
    "    raise RuntimeError(\"Run this first: python -m spacy download en_core_web_sm\")"
   ]
  },
  {
   "cell_type": "code",
   "execution_count": 7,
   "id": "a346820a",
   "metadata": {},
   "outputs": [],
   "source": [
    "def extract_entities_spacy_extended(text):\n",
    "    \"\"\"\n",
    "    Extract important information from OCR text:\n",
    "    Name, Roll No, Certificate ID, CGPA, Date of Issue, Institution Name\n",
    "    \n",
    "    Args:\n",
    "        text (str): OCR extracted text.\n",
    "    \n",
    "    Returns:\n",
    "        dict: extracted entities\n",
    "    \"\"\"\n",
    "    entities = {\n",
    "        \"Name\": [],\n",
    "        \"Roll No\": [],\n",
    "        \"Certificate ID\": [],\n",
    "        \"CGPA\": [],\n",
    "        \"Date of Issue\": [],\n",
    "        \"Institution Name\": []\n",
    "    }\n",
    "\n",
    "    # --- Step 1: Use spaCy for names & organizations ---\n",
    "    doc = nlp(text)\n",
    "    for ent in doc.ents:\n",
    "        if ent.label_ == \"PERSON\":\n",
    "            entities[\"Name\"].append(ent.text.strip())\n",
    "        elif ent.label_ in [\"ORG\", \"FAC\", \"GPE\"]:\n",
    "            entities[\"Institution Name\"].append(ent.text.strip())\n",
    "        elif ent.label_ == \"DATE\":\n",
    "            entities[\"Date of Issue\"].append(ent.text.strip())\n",
    "\n",
    "    # --- Step 2: Regex for structured fields ---\n",
    "    roll_matches = re.findall(r\"\\b(?:Roll\\s*No|RollNumber|Roll)\\s*[:\\-]?\\s*(\\w+)\", text, flags=re.I)\n",
    "    cert_matches = re.findall(r\"\\b(?:Cert(?:ificate)?\\s*ID|CID)\\s*[:\\-]?\\s*(\\w+)\", text, flags=re.I)\n",
    "    cgpa_matches = re.findall(r\"\\b(?:CGPA|GPA|Grade|Marks)\\s*[:\\-]?\\s*([\\d\\.]+)\", text, flags=re.I)\n",
    "    doi_matches = re.findall(r\"\\b(?:Date\\s*of\\s*Issue|Issued\\s*on|Date)\\s*[:\\-]?\\s*([\\d/-]+)\", text, flags=re.I)\n",
    "\n",
    "    entities[\"Roll No\"].extend(roll_matches)\n",
    "    entities[\"Certificate ID\"].extend(cert_matches)\n",
    "    entities[\"CGPA\"].extend(cgpa_matches)\n",
    "    entities[\"Date of Issue\"].extend(doi_matches)\n",
    "\n",
    "    # Remove duplicates\n",
    "    for key in entities:\n",
    "        entities[key] = list(set(entities[key]))\n",
    "\n",
    "    return entities\n"
   ]
  },
  {
   "cell_type": "code",
   "execution_count": null,
   "id": "e61b17bf",
   "metadata": {},
   "outputs": [],
   "source": []
  }
 ],
 "metadata": {
  "kernelspec": {
   "display_name": "Python 3",
   "language": "python",
   "name": "python3"
  },
  "language_info": {
   "codemirror_mode": {
    "name": "ipython",
    "version": 3
   },
   "file_extension": ".py",
   "mimetype": "text/x-python",
   "name": "python",
   "nbconvert_exporter": "python",
   "pygments_lexer": "ipython3",
   "version": "3.12.4"
  }
 },
 "nbformat": 4,
 "nbformat_minor": 5
}
