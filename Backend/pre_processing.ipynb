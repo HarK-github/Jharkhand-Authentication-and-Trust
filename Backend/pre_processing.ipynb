{
 "cells": [
  {
   "cell_type": "code",
   "execution_count": 2,
   "id": "9ae1825f",
   "metadata": {},
   "outputs": [],
   "source": [
    "import cv2\n",
    "#For Image Manipulation"
   ]
  },
  {
   "cell_type": "code",
   "execution_count": 3,
   "id": "d257d0db",
   "metadata": {},
   "outputs": [],
   "source": [
    "import numpy\n",
    "#For Numerical Manipulation"
   ]
  },
  {
   "cell_type": "code",
   "execution_count": 4,
   "id": "073502fd",
   "metadata": {},
   "outputs": [],
   "source": [
    "import matplotlib.pyplot as plt\n",
    "#For Visual Representation"
   ]
  },
  {
   "cell_type": "code",
   "execution_count": 5,
   "id": "5292a8bc",
   "metadata": {},
   "outputs": [],
   "source": [
    "def load_image(image_path, grayscale=True):\n",
    "    \"\"\"\n",
    "    Load an image from disk.\n",
    "    Args:\n",
    "        image_path (str): path to image file.\n",
    "        grayscale (bool): whether to load as grayscale.\n",
    "    Returns:\n",
    "        image (numpy.ndarray): loaded image array.\n",
    "    \"\"\"\n",
    "    if grayscale:\n",
    "        img = cv2.imread(image_path, cv2.IMREAD_GRAYSCALE)\n",
    "    else:\n",
    "        img = cv2.imread(image_path, cv2.IMREAD_COLOR)\n",
    "    if img is None:\n",
    "        raise FileNotFoundError(f\"Could not load image at {image_path}\")\n",
    "    return img"
   ]
  },
  {
   "cell_type": "code",
   "execution_count": 6,
   "id": "132a8698",
   "metadata": {},
   "outputs": [],
   "source": [
    "def save_image(image, out_path):\n",
    "    \"\"\"\n",
    "    Save the image to disk.\n",
    "    \"\"\"\n",
    "    cv2.imwrite(out_path, image)"
   ]
  },
  {
   "cell_type": "code",
   "execution_count": 7,
   "id": "61ec70ff",
   "metadata": {},
   "outputs": [],
   "source": [
    "def display(im_path):\n",
    "    \"\"\"\n",
    "    Displays the Image through image path\n",
    "    \"\"\"\n",
    "    dpi = 80\n",
    "    im_data = plt.imread(im_path)\n",
    "\n",
    "    height, width  = im_data.shape[:2]\n",
    "    \n",
    "    # What size does the figure need to be in inches to fit the image?\n",
    "    figsize = width / float(dpi), height / float(dpi)\n",
    "\n",
    "    # Create a figure of the right size with one axes that takes up the full figure\n",
    "    fig = plt.figure(figsize=figsize)\n",
    "    ax = fig.add_axes([0, 0, 1, 1])\n",
    "\n",
    "    # Hide spines, ticks, etc.\n",
    "    ax.axis('off')\n",
    "\n",
    "    # Display the image.\n",
    "    ax.imshow(im_data, cmap='gray')\n",
    "\n",
    "    plt.show()"
   ]
  },
  {
   "cell_type": "code",
   "execution_count": 8,
   "id": "2668fb85",
   "metadata": {},
   "outputs": [],
   "source": [
    "def inverted_img(img):\n",
    "    \"\"\"\n",
    "    Inverts the Pixel Value\n",
    "    \"\"\"\n",
    "    inverted_image = cv2.bitwise_not(img)\n",
    "    return inverted_image"
   ]
  },
  {
   "cell_type": "code",
   "execution_count": 9,
   "id": "2d47b654",
   "metadata": {},
   "outputs": [],
   "source": [
    "def to_grayscale(img):\n",
    "    \"\"\"\n",
    "    Converts Color Image to shades of Gray\n",
    "    \"\"\"\n",
    "    grayscaled_img = cv2.cvtColor(image, cv2.COLOR_BGR2GRAY)\n",
    "    return grayscaled_img"
   ]
  },
  {
   "cell_type": "code",
   "execution_count": 10,
   "id": "99856c6d",
   "metadata": {},
   "outputs": [],
   "source": [
    "def binarisation(img):\n",
    "    \"\"\"\n",
    "    Converts Grayscaled_Image to Two colors, i.e., Black and White\n",
    "    \"\"\"\n",
    "    thresh, im_bw = cv2.threshold(gray_image, 210, 230, cv2.THRESH_BINARY)\n",
    "    return im_bw"
   ]
  },
  {
   "cell_type": "code",
   "execution_count": 11,
   "id": "0a467721",
   "metadata": {},
   "outputs": [],
   "source": [
    "def noise_removal(image):\n",
    "    \"\"\"\n",
    "    Removes Noise(dots that interfere OCR) from Binarised Image\n",
    "    \"\"\"\n",
    "    kernel = np.ones((1, 1), np.uint8)\n",
    "    image = cv2.dilate(image, kernel, iterations=1)\n",
    "    kernel = np.ones((1, 1), np.uint8)\n",
    "    image = cv2.erode(image, kernel, iterations=1)\n",
    "    image = cv2.morphologyEx(image, cv2.MORPH_CLOSE, kernel)\n",
    "    image = cv2.medianBlur(image, 3)\n",
    "    return image"
   ]
  },
  {
   "cell_type": "markdown",
   "id": "0b1cef7e",
   "metadata": {},
   "source": [
    "Changing font width"
   ]
  },
  {
   "cell_type": "code",
   "execution_count": 12,
   "id": "4a5269c6",
   "metadata": {},
   "outputs": [],
   "source": [
    "def thin_font(image):\n",
    "    \"\"\"\n",
    "    Makes the font thin\n",
    "    \"\"\"\n",
    "    image = cv2.bitwise_not(image)\n",
    "    kernel = np.ones((2,2),np.uint8)\n",
    "    image = cv2.erode(image, kernel, iterations=1)\n",
    "    image = cv2.bitwise_not(image)\n",
    "    return image\n",
    "\n",
    "def thick_font(image):\n",
    "    \"\"\"\n",
    "    Makes the font thick\n",
    "    \"\"\"\n",
    "    image = cv2.bitwise_not(image)\n",
    "    kernel = np.ones((2,2),np.uint8)\n",
    "    image = cv2.dilate(image, kernel, iterations=1)\n",
    "    image = cv2.bitwise_not(image)\n",
    "    return image"
   ]
  },
  {
   "cell_type": "code",
   "execution_count": 13,
   "id": "4d6f31e1",
   "metadata": {},
   "outputs": [],
   "source": [
    "def getSkewAngle(cvImage):\n",
    "    \"\"\"\n",
    "    Helps to get skew angle which tells us how much the text is distorted from horizontal one\n",
    "    \"\"\"\n",
    "    # Prep image, copy, convert to gray scale, blur, and threshold\n",
    "    newImage = cvImage.copy()\n",
    "    gray = cv2.cvtColor(newImage, cv2.COLOR_BGR2GRAY)\n",
    "    blur = cv2.GaussianBlur(gray, (9, 9), 0)\n",
    "    thresh = cv2.threshold(blur, 0, 255, cv2.THRESH_BINARY_INV + cv2.THRESH_OTSU)[1]\n",
    "\n",
    "    # Apply dilate to merge text into meaningful lines/paragraphs.\n",
    "    # Use larger kernel on X axis to merge characters into single line, cancelling out any spaces.\n",
    "    # But use smaller kernel on Y axis to separate between different blocks of text\n",
    "    kernel = cv2.getStructuringElement(cv2.MORPH_RECT, (30, 5))\n",
    "    dilate = cv2.dilate(thresh, kernel, iterations=2)\n",
    "\n",
    "    # Find all contours\n",
    "    contours, hierarchy = cv2.findContours(dilate, cv2.RETR_LIST, cv2.CHAIN_APPROX_SIMPLE)\n",
    "    contours = sorted(contours, key = cv2.contourArea, reverse = True)\n",
    "    for c in contours:\n",
    "        rect = cv2.boundingRect(c)\n",
    "        x,y,w,h = rect\n",
    "        cv2.rectangle(newImage,(x,y),(x+w,y+h),(0,255,0),2)\n",
    "\n",
    "    # Find largest contour and surround in min area box\n",
    "    largestContour = contours[0]\n",
    "    print (len(contours))\n",
    "    minAreaRect = cv2.minAreaRect(largestContour)\n",
    "    cv2.imwrite(\"temp/boxes.jpg\", newImage)\n",
    "    # Determine the angle. Convert it to the value that was originally used to obtain skewed image\n",
    "    angle = minAreaRect[-1]\n",
    "    if angle < -45:\n",
    "        angle = 90 + angle\n",
    "    return -1.0 * angle\n",
    "# Rotate the image around its center\n",
    "def rotateImage(cvImage, angle: float):\n",
    "    \"\"\"\n",
    "    To rotate whole image\n",
    "    \"\"\"\n",
    "    newImage = cvImage.copy()\n",
    "    (h, w) = newImage.shape[:2]\n",
    "    center = (w // 2, h // 2)\n",
    "    M = cv2.getRotationMatrix2D(center, angle, 1.0)\n",
    "    newImage = cv2.warpAffine(newImage, M, (w, h), flags=cv2.INTER_CUBIC, borderMode=cv2.BORDER_REPLICATE)\n",
    "    return newImage"
   ]
  },
  {
   "cell_type": "code",
   "execution_count": 14,
   "id": "e0e968cc",
   "metadata": {},
   "outputs": [],
   "source": [
    "def deskew(cvImage):\n",
    "    \"\"\"\n",
    "    Deskew with the help of Skew Angle\n",
    "    \"\"\"\n",
    "    angle = getSkewAngle(cvImage)\n",
    "    return rotateImage(cvImage, -1.0 * angle)"
   ]
  },
  {
   "cell_type": "code",
   "execution_count": 16,
   "id": "9a4d8312",
   "metadata": {},
   "outputs": [],
   "source": [
    "def remove_borders(image):\n",
    "    \"\"\"\n",
    "    Remove the borders\n",
    "    \"\"\"\n",
    "    contours, heiarchy = cv2.findContours(image, cv2.RETR_EXTERNAL, cv2.CHAIN_APPROX_SIMPLE)\n",
    "    cntsSorted = sorted(contours, key=lambda x:cv2.contourArea(x))\n",
    "    cnt = cntsSorted[-1]\n",
    "    x, y, w, h = cv2.boundingRect(cnt)\n",
    "    crop = image[y:y+h, x:x+w]\n",
    "    return crop"
   ]
  },
  {
   "cell_type": "code",
   "execution_count": 18,
   "id": "aa8c1e94",
   "metadata": {},
   "outputs": [],
   "source": [
    "color = [255, 255, 255]\n",
    "top, bottom, left, right = [150]*4\n",
    "\n",
    "def give_borders(img):\n",
    "    \"\"\"\n",
    "    Give borders if required\n",
    "    \"\"\"    \n",
    "    image_with_border = cv2.copyMakeBorder(img, top, bottom, left, right, cv2.BORDER_CONSTANT, value=color)\n",
    "    return image_with_border"
   ]
  },
  {
   "cell_type": "code",
   "execution_count": null,
   "id": "0344c0ab",
   "metadata": {},
   "outputs": [],
   "source": []
  }
 ],
 "metadata": {
  "kernelspec": {
   "display_name": "Python 3",
   "language": "python",
   "name": "python3"
  },
  "language_info": {
   "codemirror_mode": {
    "name": "ipython",
    "version": 3
   },
   "file_extension": ".py",
   "mimetype": "text/x-python",
   "name": "python",
   "nbconvert_exporter": "python",
   "pygments_lexer": "ipython3",
   "version": "3.12.4"
  }
 },
 "nbformat": 4,
 "nbformat_minor": 5
}
