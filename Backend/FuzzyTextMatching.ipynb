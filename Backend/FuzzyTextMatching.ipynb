{
 "cells": [
  {
   "cell_type": "code",
   "execution_count": 2,
   "id": "782a4bb7",
   "metadata": {},
   "outputs": [],
   "source": [
    "from fuzzywuzzy import fuzz\n",
    "#Importing Library\n"
   ]
  },
  {
   "cell_type": "code",
   "execution_count": 3,
   "id": "d5d5edfa",
   "metadata": {},
   "outputs": [],
   "source": [
    "def calculate_confidence_fuzz_avg(extracted_entities, reference_entities):\n",
    "    \"\"\"\n",
    "    Calculate confidence per field and overall average confidence.\n",
    "    \n",
    "    Args:\n",
    "        extracted_entities (dict): entities extracted from OCR.\n",
    "        reference_entities (dict): expected/reference entities.\n",
    "    \n",
    "    Returns:\n",
    "        dict: \n",
    "            - 'field_scores': confidence per entity (0-100)\n",
    "            - 'overall_score': average confidence across all entities\n",
    "    \"\"\"\n",
    "    field_scores = {}\n",
    "    \n",
    "    for key, ref_value in reference_entities.items():\n",
    "        extracted_values = extracted_entities.get(key, [])\n",
    "        \n",
    "        if not extracted_values:\n",
    "            field_scores[key] = 0\n",
    "            continue\n",
    "        \n",
    "        # Take max score among extracted values for this field\n",
    "        max_score = max([fuzz.ratio(str(ref_value), str(val)) for val in extracted_values])\n",
    "        field_scores[key] = max_score\n",
    "    \n",
    "    # Overall average across all fields\n",
    "    overall_score = sum(field_scores.values()) / len(reference_entities)\n",
    "    \n",
    "    return {\n",
    "        \"field_scores\": field_scores,\n",
    "        \"overall_score\": overall_score\n",
    "    }"
   ]
  },
  {
   "cell_type": "code",
   "execution_count": null,
   "id": "11e786f4",
   "metadata": {},
   "outputs": [],
   "source": []
  }
 ],
 "metadata": {
  "kernelspec": {
   "display_name": "Python 3",
   "language": "python",
   "name": "python3"
  },
  "language_info": {
   "codemirror_mode": {
    "name": "ipython",
    "version": 3
   },
   "file_extension": ".py",
   "mimetype": "text/x-python",
   "name": "python",
   "nbconvert_exporter": "python",
   "pygments_lexer": "ipython3",
   "version": "3.12.4"
  }
 },
 "nbformat": 4,
 "nbformat_minor": 5
}
