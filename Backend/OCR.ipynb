{
 "cells": [
  {
   "cell_type": "code",
   "execution_count": 1,
   "id": "7a7991ba",
   "metadata": {},
   "outputs": [],
   "source": [
    "import cv2\n",
    "#Importing OpenCV for Image Manipulation"
   ]
  },
  {
   "cell_type": "code",
   "execution_count": 2,
   "id": "801d98fe",
   "metadata": {},
   "outputs": [],
   "source": [
    "import pytesseract\n",
    "#For extracting Text from Image "
   ]
  },
  {
   "cell_type": "code",
   "execution_count": 3,
   "id": "223f1631",
   "metadata": {},
   "outputs": [],
   "source": [
    "def perform_ocr(image_path, lang='eng', psm=6, oem=3):\n",
    "    \"\"\"\n",
    "    Perform OCR (Optical Character Recognition) on an image using Tesseract.\n",
    "\n",
    "    Args:\n",
    "        image_path (str): path to input image.\n",
    "        lang (str): language code for OCR (default 'eng').\n",
    "        psm (int): Page Segmentation Mode (6 = Assume a single block of text).\n",
    "        oem (int): OCR Engine Mode (3 = Default, both legacy + LSTM).\n",
    "\n",
    "    Returns:\n",
    "        text (str): Extracted text from image.\n",
    "    \"\"\"\n",
    "    # Load as grayscale\n",
    "    img = cv2.imread(image_path, cv2.IMREAD_GRAYSCALE)\n",
    "    if img is None:\n",
    "        raise FileNotFoundError(f\"Could not load image: {image_path}\")\n",
    "\n",
    "    # Optional preprocessing (binarization for better OCR)\n",
    "    _, thresh = cv2.threshold(img, 0, 255,\n",
    "                              cv2.THRESH_BINARY + cv2.THRESH_OTSU)\n",
    "\n",
    "    # Config options for Tesseract\n",
    "    config = f'--oem {oem} --psm {psm}'\n",
    "    text = pytesseract.image_to_string(thresh, lang=lang, config=config)\n",
    "\n",
    "    return text"
   ]
  },
  {
   "cell_type": "code",
   "execution_count": 4,
   "id": "6b7124ca",
   "metadata": {},
   "outputs": [],
   "source": [
    "def get_contours(image_path, min_area=100):\n",
    "    \"\"\"\n",
    "    Detect contours (shapes/connected regions) in the image.\n",
    "\n",
    "    Args:\n",
    "        image_path (str): path to input image.\n",
    "        min_area (int): filter small contours below this area.\n",
    "\n",
    "    Returns:\n",
    "        contours (list): list of contours kept after filtering.\n",
    "        contour_img (ndarray): image with contours drawn.\n",
    "    \"\"\"\n",
    "    # Load as grayscale\n",
    "    img = cv2.imread(image_path, cv2.IMREAD_GRAYSCALE)\n",
    "    if img is None:\n",
    "        raise FileNotFoundError(f\"Could not load image: {image_path}\")\n",
    "\n",
    "    # Preprocess: binarize\n",
    "    _, binary = cv2.threshold(img, 0, 255,\n",
    "                              cv2.THRESH_BINARY + cv2.THRESH_OTSU)\n",
    "\n",
    "    # Find contours\n",
    "    contours, _ = cv2.findContours(binary, cv2.RETR_EXTERNAL,\n",
    "                                   cv2.CHAIN_APPROX_SIMPLE)\n",
    "\n",
    "    # Filter contours by area\n",
    "    filtered = [cnt for cnt in contours if cv2.contourArea(cnt) > min_area]\n",
    "\n",
    "    # Draw contours on a copy\n",
    "    contour_img = cv2.cvtColor(img, cv2.COLOR_GRAY2BGR)\n",
    "    cv2.drawContours(contour_img, filtered, -1, (0, 255, 0), 2)\n",
    "\n",
    "    return filtered, contour_img\n"
   ]
  },
  {
   "cell_type": "code",
   "execution_count": null,
   "id": "7f8f8216",
   "metadata": {},
   "outputs": [],
   "source": []
  }
 ],
 "metadata": {
  "kernelspec": {
   "display_name": "Python 3",
   "language": "python",
   "name": "python3"
  },
  "language_info": {
   "codemirror_mode": {
    "name": "ipython",
    "version": 3
   },
   "file_extension": ".py",
   "mimetype": "text/x-python",
   "name": "python",
   "nbconvert_exporter": "python",
   "pygments_lexer": "ipython3",
   "version": "3.12.4"
  }
 },
 "nbformat": 4,
 "nbformat_minor": 5
}
